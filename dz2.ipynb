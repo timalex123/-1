{
 "cells": [
  {
   "cell_type": "code",
   "execution_count": 1,
   "id": "3dcfc3ef-aa2c-4a7a-942e-a71ab8cee126",
   "metadata": {},
   "outputs": [
    {
     "name": "stdout",
     "output_type": "stream",
     "text": [
      "Високосный год\n"
     ]
    }
   ],
   "source": [
    "# Задание 1: Проверка, является ли год високосным\n",
    "\n",
    "# Ввод года\n",
    "year = 2024  \n",
    "\n",
    "# Проверка условий для высокосного года\n",
    "if (year % 4 == 0 and year % 100 != 0) or (year % 400 == 0):\n",
    "    print(\"Високосный год\")\n",
    "else:\n",
    "    print(\"Обычный год\")\n",
    "\n"
   ]
  },
  {
   "cell_type": "code",
   "execution_count": 3,
   "id": "5a8c8ea6-c51b-4712-97b6-f9b014145869",
   "metadata": {},
   "outputs": [
    {
     "name": "stdout",
     "output_type": "stream",
     "text": [
      "Обычный год\n"
     ]
    }
   ],
   "source": [
    "# Задание 1: Проверка, является ли год високосным\n",
    "\n",
    "# Ввод года\n",
    "year = 2029 \n",
    "\n",
    "# Проверка условий для высокосного года\n",
    "if (year % 4 == 0 and year % 100 != 0) or (year % 400 == 0):\n",
    "    print(\"Високосный год\")\n",
    "else:\n",
    "    print(\"Обычный год\")\n"
   ]
  },
  {
   "cell_type": "code",
   "execution_count": null,
   "id": "57ed0cdc-9325-4d71-a322-e5ec7afaf149",
   "metadata": {},
   "outputs": [],
   "source": []
  }
 ],
 "metadata": {
  "kernelspec": {
   "display_name": "Python 3 (ipykernel)",
   "language": "python",
   "name": "python3"
  },
  "language_info": {
   "codemirror_mode": {
    "name": "ipython",
    "version": 3
   },
   "file_extension": ".py",
   "mimetype": "text/x-python",
   "name": "python",
   "nbconvert_exporter": "python",
   "pygments_lexer": "ipython3",
   "version": "3.13.1"
  }
 },
 "nbformat": 4,
 "nbformat_minor": 5
}
