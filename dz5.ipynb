{
 "cells": [
  {
   "cell_type": "code",
   "execution_count": 2,
   "id": "ac8a6df3-779c-4aab-8da0-38726bcb41cc",
   "metadata": {},
   "outputs": [
    {
     "ename": "ModuleNotFoundError",
     "evalue": "No module named 'pandas'",
     "output_type": "error",
     "traceback": [
      "\u001b[1;31m---------------------------------------------------------------------------\u001b[0m",
      "\u001b[1;31mModuleNotFoundError\u001b[0m                       Traceback (most recent call last)",
      "Cell \u001b[1;32mIn[2], line 1\u001b[0m\n\u001b[1;32m----> 1\u001b[0m \u001b[38;5;28;01mimport\u001b[39;00m \u001b[38;5;21;01mpandas\u001b[39;00m \u001b[38;5;28;01mas\u001b[39;00m \u001b[38;5;21;01mpd\u001b[39;00m\n\u001b[0;32m      3\u001b[0m \u001b[38;5;28;01mdef\u001b[39;00m \u001b[38;5;21mload_data\u001b[39m(file_path):\n\u001b[0;32m      4\u001b[0m \u001b[38;5;250m    \u001b[39m\u001b[38;5;124;03m\"\"\"Загружает данные из CSV файла.\"\"\"\u001b[39;00m\n",
      "\u001b[1;31mModuleNotFoundError\u001b[0m: No module named 'pandas'"
     ]
    }
   ],
   "source": [
    "import pandas as pd\n",
    "\n",
    "def load_data(file_path):\n",
    "    \"\"\"Загружает данные из CSV файла.\"\"\"\n",
    "    return pd.read_csv(file_path)\n",
    "\n",
    "def analyze_age(df):\n",
    "    \"\"\"Анализирует возраст покупателей и добавляет новый столбец с результатом.\"\"\"\n",
    "    df['Age_Analysis'] = df['Age'].apply(lambda x: 'Старше 25' if x > 25 else 'Младше или равен 25')\n",
    "    return df\n",
    "\n",
    "def main():\n",
    "    # Замените 'web_clients_correct.csv' на путь к вашему файлу\n",
    "    file_path = 'web_clients_correct.csv'\n",
    "    \n",
    "    # Загружаем данные\n",
    "    data = load_data(file_path)\n",
    "    \n",
    "    # Анализируем возраст\n",
    "    analyzed_data = analyze_age(data)\n",
    "    \n",
    "    # Выводим первые 15 строк результата\n",
    "    print(analyzed_data.head(15))\n",
    "\n",
    "# Запуск основной функции\n",
    "if __name__ == \"__main__\":\n",
    "   main()\n"
   ]
  },
  {
   "cell_type": "code",
   "execution_count": null,
   "id": "45a1b982-3ff2-4c98-9569-09a0bec6ff9a",
   "metadata": {},
   "outputs": [],
   "source": []
  }
 ],
 "metadata": {
  "kernelspec": {
   "display_name": "Python 3 (ipykernel)",
   "language": "python",
   "name": "python3"
  },
  "language_info": {
   "codemirror_mode": {
    "name": "ipython",
    "version": 3
   },
   "file_extension": ".py",
   "mimetype": "text/x-python",
   "name": "python",
   "nbconvert_exporter": "python",
   "pygments_lexer": "ipython3",
   "version": "3.13.1"
  }
 },
 "nbformat": 4,
 "nbformat_minor": 5
}
