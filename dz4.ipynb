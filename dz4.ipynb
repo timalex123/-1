{
 "cells": [
  {
   "cell_type": "code",
   "execution_count": 3,
   "id": "6b66609d-9dc2-416c-acb3-8f14860964cd",
   "metadata": {},
   "outputs": [
    {
     "ename": "SyntaxError",
     "evalue": "unterminated string literal (detected at line 9) (3151944619.py, line 9)",
     "output_type": "error",
     "traceback": [
      "\u001b[1;36m  Cell \u001b[1;32mIn[3], line 9\u001b[1;36m\u001b[0m\n\u001b[1;33m    \"1\": ['2207 876234’, ‘11-2’],\u001b[0m\n\u001b[1;37m          ^\u001b[0m\n\u001b[1;31mSyntaxError\u001b[0m\u001b[1;31m:\u001b[0m unterminated string literal (detected at line 9)\n"
     ]
    }
   ],
   "source": [
    "# Исходные данные\n",
    "documents = [\n",
    "    {'type': 'passport', 'number': '2207 876234', 'name': 'Василий Гупкин'},\n",
    "    {'type': 'invoice', 'number': '11-2', 'name': 'Геннадий Покемонов'},\n",
    "    {'type': 'insurance', 'number': '10006', 'name': 'Аристарх Павлов'}\n",
    "]\n",
    "\n",
    "directories = {\n",
    "    \"1\": ['2207 876234’, ‘11-2’],\n",
    "    ‘2’: ['10006'],\n",
    "    ‘3’: []\n",
    "}\n",
    "\n",
    "def find_owner(document_number):\n",
    "    \"\"\"Находит владельца документа по его номеру.\"\"\"\n",
    "    for document in documents:\n",
    "        if document['number'] == document_number:\n",
    "            return document['name']\n",
    "    return None\n",
    "\n",
    "def main():\n",
    "    while True:\n",
    "        command = input(\"Введите команду (p для поиска владельца, q для выхода): \")\n",
    "        if command == \"q\":\n",
    "            print(\"Выход из программы.\")\n",
    "            break\n",
    "        elif command == \"p\":\n",
    "            doc_number = input(\"Введите номер документа: \")\n",
    "            owner = find_owner(doc_number)\n",
    "            if owner:\n",
    "                print(f\"Владелец документа: {owner}\")\n",
    "            else:\n",
    "                print(\"Документ не найден.\")\n",
    "\n",
    "# Запуск основной функции\n",
    "main()\n",
    "\n"
   ]
  },
  {
   "cell_type": "code",
   "execution_count": null,
   "id": "3a4392af-ad82-41a6-abb0-a8c6cfa710fb",
   "metadata": {},
   "outputs": [],
   "source": []
  }
 ],
 "metadata": {
  "kernelspec": {
   "display_name": "Python 3 (ipykernel)",
   "language": "python",
   "name": "python3"
  },
  "language_info": {
   "codemirror_mode": {
    "name": "ipython",
    "version": 3
   },
   "file_extension": ".py",
   "mimetype": "text/x-python",
   "name": "python",
   "nbconvert_exporter": "python",
   "pygments_lexer": "ipython3",
   "version": "3.13.1"
  }
 },
 "nbformat": 4,
 "nbformat_minor": 5
}
