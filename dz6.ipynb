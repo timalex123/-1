{
 "cells": [
  {
   "cell_type": "code",
   "execution_count": 1,
   "id": "eb015304-bd98-4b4e-9251-865ddae2eee7",
   "metadata": {},
   "outputs": [
    {
     "ename": "SyntaxError",
     "evalue": "unterminated string literal (detected at line 22) (254833911.py, line 22)",
     "output_type": "error",
     "traceback": [
      "\u001b[1;36m  Cell \u001b[1;32mIn[1], line 22\u001b[1;36m\u001b[0m\n\u001b[1;33m    fig = px.scatter(df, xAge', y='Spending', color='Gender',\u001b[0m\n\u001b[1;37m                                                           ^\u001b[0m\n\u001b[1;31mSyntaxError\u001b[0m\u001b[1;31m:\u001b[0m unterminated string literal (detected at line 22)\n"
     ]
    }
   ],
   "source": [
    "import pandas as pd\n",
    "import seab as sns\n",
    "import plotly.express as px\n",
    "\n",
    "def load_data(file_path):\n",
    "    \"\"\"Загружает данные из CSV файла.\"\"\"\n",
    "    return.read_csv(file_path)\n",
    "\n",
    "def preprocess_data(df):\n",
    "    \"\"\"Предобрабатывает данные (например, проверяет типы данных).\"\"\"\n",
    "    # Здесь можно добавить преобразования или очистку данных по мере необходимости.\n",
    "    # Например: df['Age'] = df['Age'].astype(int)\n",
    "    \n",
    "    return df\n",
    "\n",
    "def plot_scatter_seaborn(df):\n",
    "    \"\"\"Строит диаграмму разброса с помощью Seaborn.\"\"\"\n",
    "    sns.scatterplot(data=df, x='Age', y='Spending', hue='Gender')\n",
    "    \n",
    "def plot_scatter_plot(df):\n",
    "    \"\"\"Строит диаграмму разброса с помощью Plotly.\"\"\"\n",
    "    fig = px.scatter(df, xAge', y='Spending', color='Gender',\n",
    "                     title=\"Зависимость возраста клиента от расходов\",\n",
    "                     labels={'Age': 'Возраст', 'Spending': 'Расходы'})\n",
    "    \n",
    "    fig.show()\n",
    "\n",
    "def main():\n",
    "   # Замените 'web_clients_correct.csv' на путь к вашему файлу\n",
    "   file_path = 'web_clients_correct.csv'\n",
    "   \n",
    "   # Загружаем данные\n",
    "   data = load_data_path)\n",
    "   \n",
    "   # Предобрабаты данные\n",
    "   processed_data = preprocess_data(data)\n",
    "\n",
    "   # Выводим первые 15 строк результата (по желанию)\n",
    "   print(processed_data.head(15))\n",
    "\n",
    "   # Построение графиков:\n",
    "   plot_scatter_seaborn(processed_data   \n",
    "   # Для использования Plotly:\n",
    "   plot_scatter_plotly(processed_data)\n",
    "\n",
    "# Запуск основной функции\n",
    "if __name__ == \"__main__\":\n",
    "     main()\n"
   ]
  },
  {
   "cell_type": "code",
   "execution_count": null,
   "id": "fda476ee-6001-4863-9fc5-726999ab8d41",
   "metadata": {},
   "outputs": [],
   "source": []
  }
 ],
 "metadata": {
  "kernelspec": {
   "display_name": "Python 3 (ipykernel)",
   "language": "python",
   "name": "python3"
  },
  "language_info": {
   "codemirror_mode": {
    "name": "ipython",
    "version": 3
   },
   "file_extension": ".py",
   "mimetype": "text/x-python",
   "name": "python",
   "nbconvert_exporter": "python",
   "pygments_lexer": "ipython3",
   "version": "3.13.1"
  }
 },
 "nbformat": 4,
 "nbformat_minor": 5
}
