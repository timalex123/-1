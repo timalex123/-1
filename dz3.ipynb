{
 "cells": [
  {
   "cell_type": "code",
   "execution_count": 3,
   "id": "79567765-e10a-41c6-918b-ad7e7be6c68a",
   "metadata": {},
   "outputs": [
    {
     "name": "stdout",
     "output_type": "stream",
     "text": [
      "t\n"
     ]
    }
   ],
   "source": [
    "# Ввод слова\n",
    "word = 'testing' \n",
    "\n",
    "# Определяем длину слова\n",
    "length = len(word)\n",
    "\n",
    "# Проверяем, четное или нечетное количество букв в слове и выводим соответствующий результат\n",
    "if length % 2 == 0:\n",
    "    # Если четное, выводим две средние буквы\n",
    "    middle_index = length // 2\n",
    "    result = word[middle_index - 1:middle_index + 1]\n",
    "else:\n",
    "    # Если нечетное, выводим одну среднюю букву\n",
    "    middle_index = length // 2\n",
    "    result = word[middle_index]\n",
    "\n",
    "print(result)\n"
   ]
  },
  {
   "cell_type": "code",
   "execution_count": null,
   "id": "ffb82eba-1125-4cfd-9801-2b2692214d97",
   "metadata": {},
   "outputs": [],
   "source": []
  }
 ],
 "metadata": {
  "kernelspec": {
   "display_name": "Python 3 (ipykernel)",
   "language": "python",
   "name": "python3"
  },
  "language_info": {
   "codemirror_mode": {
    "name": "ipython",
    "version": 3
   },
   "file_extension": ".py",
   "mimetype": "text/x-python",
   "name": "python",
   "nbconvert_exporter": "python",
   "pygments_lexer": "ipython3",
   "version": "3.13.1"
  }
 },
 "nbformat": 4,
 "nbformat_minor": 5
}
